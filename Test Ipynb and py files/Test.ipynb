{
 "cells": [
  {
   "cell_type": "code",
   "execution_count": 1,
   "id": "30564032",
   "metadata": {},
   "outputs": [],
   "source": [
    "import pandas as pd\n",
    "\n",
    "df = pd.read_csv('data/Final_Resume.csv')\n",
    "df['resume_id'] = range(1, len(df) + 1)\n",
    "df.to_csv('data/Final_Resume.csv', index=False)\n"
   ]
  },
  {
   "cell_type": "code",
   "execution_count": 7,
   "id": "0ca8288b",
   "metadata": {},
   "outputs": [
    {
     "data": {
      "text/html": [
       "<div>\n",
       "<style scoped>\n",
       "    .dataframe tbody tr th:only-of-type {\n",
       "        vertical-align: middle;\n",
       "    }\n",
       "\n",
       "    .dataframe tbody tr th {\n",
       "        vertical-align: top;\n",
       "    }\n",
       "\n",
       "    .dataframe thead th {\n",
       "        text-align: right;\n",
       "    }\n",
       "</style>\n",
       "<table border=\"1\" class=\"dataframe\">\n",
       "  <thead>\n",
       "    <tr style=\"text-align: right;\">\n",
       "      <th></th>\n",
       "      <th>job_description</th>\n",
       "      <th>resume_text</th>\n",
       "    </tr>\n",
       "  </thead>\n",
       "  <tbody>\n",
       "    <tr>\n",
       "      <th>0</th>\n",
       "      <td>Senior System Administrator (Windows, VMWARE &amp;...</td>\n",
       "      <td>M.S.Saravanan , , th Street, Adambakkam, Chenn...</td>\n",
       "    </tr>\n",
       "  </tbody>\n",
       "</table>\n",
       "</div>"
      ],
      "text/plain": [
       "                                     job_description  \\\n",
       "0  Senior System Administrator (Windows, VMWARE &...   \n",
       "\n",
       "                                         resume_text  \n",
       "0  M.S.Saravanan , , th Street, Adambakkam, Chenn...  "
      ]
     },
     "execution_count": 7,
     "metadata": {},
     "output_type": "execute_result"
    }
   ],
   "source": [
    "df = pd.read_csv('C:/Users/Admin/Downloads/final_resume.csv')\n",
    "df.head(1)"
   ]
  },
  {
   "cell_type": "code",
   "execution_count": 8,
   "id": "d94de50a",
   "metadata": {},
   "outputs": [],
   "source": [
    "column_name = 'resume_text'"
   ]
  },
  {
   "cell_type": "code",
   "execution_count": 10,
   "id": "01bc70f2",
   "metadata": {},
   "outputs": [
    {
     "data": {
      "text/plain": [
       "'M.S.Saravanan , , th Street, Adambakkam, Chennai 600 088. EMail Mobile No Resourceful and versatile Administrator More than Fifteen years of experience in the field of IT enabled services Thorough knowledge of Windows Server 2008 2012, Active Directory, Group Policy, DNS, DHCP, WINS. System Center Configuration Manager SCCM. Expertise in managing and maintaining Microsoft Windows based Networks Extensive knowledge of trouble shooting System Hardware and software Installations. Three years of Experience in Windows Administration. Configuring Cisco Switches, Cisco Routers. ATP COMPUTERS System Engineer From 15th April 2014 To Till Date Served as Desktop Administrator. Provide Hardware, Printer, Network and Desktop support for users. Frontier Business System Pvt Ltd System Engineer 29th 2012 Oct to 30th March 2014 Lead System Engineer in the support, Design and implementation of a Windows Served based LAN for 500 users. Firewall Gate protect GPA250 HipeakEngineers. System Engineer 15th sep 2010 to 26th Oct 2012 Served as Senior Team Leader. Provide Hardware, Printer, Network and desktop supports over 100users Many Midsize company throughout Chennai. Laser soft Info Systems Ltd. System Engineer 7th April 2008 to13th sep 2010 Served as Lead Senior System Engineer in the support, Design and implementation a windowsbased LAN for 500users. SAMTECH INFONET LIMITED Junior Engineer Sales Executive Feb1996 to Jan 2008 Served as Training System Engineer in the support, Design and implementation a windows Technical skills Installing and configuring Windows server 2003, 2008R2, 2012. Active Directory and DNS DHCP Support based upon request or issues. Creating new group policies as per the Customer request. Migration from Windows server 2003 to Windows 2008R2. Implementing User, Group and Computer Accounts. Managing Cluster Services Installation Administration. Configured automatic updates for network clients by using Group Policy. Installing Configuring IIS 7.0 and FTP. Administering and Managing Symantec Antivirus application. Installed and configured an Active Directory Domain Controller. Resolving Disk Space Server Performance Issues. Monitoring the Windows servers performing scheduled maintenance as per the requirement. Contacting the Vendors for the Hardware and Printer related issues. Interacting with the users and Training them as per the request. Maintains network infrastructure such as switches and routers, and diagnosesm problems with these or with the behavior of networkattached computers. Computer performs routine maintenance and upkeep, such as changing backup tapes or replacing failed drives in a RAID. Analyzing system logs and identifying potential issues with computer systems. Applying operating system updates, patches, and configuration . Adding, removing, or updating user account information, resetting passwords, . Maintain, monitor and troubleshoot the Local Area Network Education B.Com, Chennai University, Chennai. Certifications MCITP 70640, 70642, 70646 CCNA Reg. No. csco10945646 NEED TO UPGRADE. Date Of Birth 30.03.1972. Passport No J9415306. Place Chennai M.S.Saravanan'"
      ]
     },
     "execution_count": 10,
     "metadata": {},
     "output_type": "execute_result"
    }
   ],
   "source": [
    "column_data = df[column_name].tolist()\n",
    "column_data[0]"
   ]
  },
  {
   "cell_type": "code",
   "execution_count": null,
   "id": "bb7cf16b",
   "metadata": {},
   "outputs": [],
   "source": []
  }
 ],
 "metadata": {
  "kernelspec": {
   "display_name": ".venv",
   "language": "python",
   "name": "python3"
  },
  "language_info": {
   "codemirror_mode": {
    "name": "ipython",
    "version": 3
   },
   "file_extension": ".py",
   "mimetype": "text/x-python",
   "name": "python",
   "nbconvert_exporter": "python",
   "pygments_lexer": "ipython3",
   "version": "3.12.6"
  }
 },
 "nbformat": 4,
 "nbformat_minor": 5
}
